{
 "cells": [
  {
   "cell_type": "code",
   "execution_count": 101,
   "metadata": {},
   "outputs": [
    {
     "name": "stdout",
     "output_type": "stream",
     "text": [
      "['I', 'N', 'L', 'Y', 'F', 'T', 'E', 'V', 'L', 'U', 'N', 'E', 'A', 'L', 'Y', 'C']\n"
     ]
    }
   ],
   "source": [
    "import time\n",
    "from selenium import webdriver\n",
    "from selenium.webdriver.chrome.service import Service\n",
    "from webdriver_manager.chrome import ChromeDriverManager\n",
    "from selenium.webdriver.common.by import By\n",
    "from selenium.webdriver.common.keys import Keys\n",
    "from selenium.webdriver.support.ui import WebDriverWait\n",
    "from selenium.webdriver.support import expected_conditions as EC\n",
    "from bs4 import BeautifulSoup\n",
    "\n",
    "#chrome driver\n",
    "driver = webdriver.Chrome(service=Service(ChromeDriverManager().install()))\n",
    "\n",
    "#go to the site\n",
    "url = 'https://squaredle.app/'\n",
    "driver.get(url)\n",
    "\n",
    "#wait 10 seconds before starting anything\n",
    "wait = WebDriverWait(driver, 10)\n",
    "\n",
    "#find body of the page \n",
    "body = wait.until(EC.presence_of_element_located((By.TAG_NAME, 'body')))\n",
    "\n",
    "#finish the tutorial\n",
    "\n",
    "#play\n",
    "body.send_keys('play')\n",
    "body.send_keys(Keys.RETURN)\n",
    "\n",
    "time.sleep(3)\n",
    "\n",
    "#find\n",
    "body.send_keys('find')\n",
    "body.send_keys(Keys.RETURN)\n",
    "\n",
    "time.sleep(3)\n",
    "\n",
    "#tutorial\n",
    "body.send_keys('tutorial')\n",
    "body.send_keys(Keys.RETURN)\n",
    "\n",
    "time.sleep(5)\n",
    "\n",
    "#scrape the main game grid\n",
    "#pase html content to extract the letters. get the first 16 outputs (main grid)\n",
    "html = driver.page_source\n",
    "soup = BeautifulSoup(html, 'html.parser')\n",
    "letter_containers = soup.find_all('div', class_='letterContainer')\n",
    "letters = [container.find('div', class_='unnecessaryWrapper').text.strip() for container in letter_containers][:16]\n",
    "\n",
    "print(letters)\n",
    "\n"
   ]
  },
  {
   "cell_type": "code",
   "execution_count": null,
   "metadata": {},
   "outputs": [
    {
     "name": "stdout",
     "output_type": "stream",
     "text": [
      "[['i', 'n', 'l', 'y'], ['f', 't', 'e', 'v'], ['l', 'u', 'n', 'e'], ['a', 'l', 'y', 'c']]\n"
     ]
    }
   ],
   "source": [
    "#convert the 4x4 grid into a 2d array\n",
    "letters = [letter.lower() for letter in letters]\n",
    "group = [letters[:4], letters[4:8], letters[8:12], letters[12:]]\n",
    "print(group)"
   ]
  },
  {
   "cell_type": "code",
   "execution_count": 80,
   "metadata": {},
   "outputs": [
    {
     "name": "stdout",
     "output_type": "stream",
     "text": [
      "361664\n"
     ]
    },
    {
     "data": {
      "text/plain": [
       "3934"
      ]
     },
     "execution_count": 80,
     "metadata": {},
     "output_type": "execute_result"
    }
   ],
   "source": [
    "#get all the words from the corpus that are longer than 3 chars (squaredle allows only 4 letter words and up, max 16 letters)\n",
    "with open('words.txt', 'r') as file:\n",
    "    words = [line.strip() for line in file]\n",
    "\n",
    "words = [word for word in words if len(word) > 3 and len(word) < 17]\n",
    "print(len(words))\n",
    "\n",
    "#filter to only have words with letters in the grid\n",
    "words = [word for word in words if all(l in letters for l in word)]\n",
    "len(words)"
   ]
  },
  {
   "cell_type": "code",
   "execution_count": 81,
   "metadata": {},
   "outputs": [],
   "source": [
    "#define a trie class to check if a string is a valid prefix of any word\n",
    "#faster processing - prune unnecessary checks\n",
    "\n",
    "class TrieNode:\n",
    "    def __init__(self):\n",
    "        self.children = {}\n",
    "        self.is_word = False\n",
    "    \n",
    "class Trie:\n",
    "    def __init__(self):\n",
    "        self.root = TrieNode()\n",
    "\n",
    "    def insert(self, word):\n",
    "        node = self.root\n",
    "        for char in word:\n",
    "            if char not in node.children:\n",
    "                node.children[char] = TrieNode()\n",
    "            node = node.children[char]\n",
    "        node.is_word = True\n",
    "\n",
    "    #check if there is any branch in the trie structure with a certain prefix\n",
    "    def check_prefix(self, prefix):\n",
    "        node = self.root\n",
    "        for char in prefix:\n",
    "            if char not in node.children:\n",
    "                return False\n",
    "            node = node.children[char]\n",
    "        return True"
   ]
  },
  {
   "cell_type": "code",
   "execution_count": 82,
   "metadata": {},
   "outputs": [
    {
     "name": "stdout",
     "output_type": "stream",
     "text": [
      "120\n"
     ]
    }
   ],
   "source": [
    "#left right up down diagonal\n",
    "directions = [(0, 1), (1, 0), (0, -1), (-1, 0), (1, 1), (1, -1), (-1, 1), (-1, -1)]\n",
    "\n",
    "def dfs(x, y, curr, visited, trie, candidates):\n",
    "    #if words is in the corpus, add it as a potential candidate\n",
    "    if trie.check_prefix(curr) and curr in words:\n",
    "        candidates.add(curr)\n",
    "        \n",
    "    #traverse the grid in the possible directions\n",
    "    for dx, dy in directions:\n",
    "        nx, ny = x+dx, y+dy\n",
    "        #if within grid bounds, continue traversing\n",
    "        if 0 <= nx < len(group) and 0 <= ny < len(group[0]):\n",
    "            if(nx, ny) not in visited:\n",
    "                visited.add((nx, ny))\n",
    "                dfs(nx, ny, curr+group[nx][ny], visited, trie, candidates)\n",
    "                visited.remove((nx, ny))\n",
    "\n",
    "#find all possible words using the letters in grid\n",
    "def find_words():\n",
    "    candidates = set()\n",
    "    trie = Trie()\n",
    "    #create a trie using all the possible words\n",
    "    for word in words:\n",
    "        trie.insert(word)\n",
    "    #iterate through the paths through the grid and add matched words\n",
    "    for i in range(len(group)):\n",
    "        for j in range(len(group[0])):\n",
    "            visited = set()\n",
    "            visited.add((i, j))\n",
    "            dfs(i, j, group[i][j], visited, trie, candidates)\n",
    "    return candidates\n",
    "\n",
    "potential_words = find_words()\n",
    "print(len(potential_words))"
   ]
  },
  {
   "cell_type": "code",
   "execution_count": 83,
   "metadata": {},
   "outputs": [
    {
     "name": "stdout",
     "output_type": "stream",
     "text": [
      "{'tinful', 'infula', 'flue', 'yuft', 'yente', 'cene', 'ency', 'ally', 'nene', 'altun', 'tine', 'cent', 'yelt', 'vent', 'intune', 'venula', 'itel', 'enventual', 'finely', 'full', 'ineunt', 'eventual', 'intl', 'aune', 'lent', 'veen', 'infl', 'inlet', 'neti', 'entune', 'intue', 'intnl', 'centi', 'fuel', 'enif', 'inly', 'eventful', 'fine', 'uneven', 'leven', 'venue', 'eventfully', 'netful', 'influe', 'neve', 'tune', 'fully', 'aunt', 'unevenly', 'tula', 'lunel', 'eely', 'envy', 'centinel', 'ulla', 'nitency', 'leve', 'intel', 'fluence', 'untine', 'fuye', 'influent', 'veneti', 'altin', 'flute', 'fluently', 'enent', 'lycee', 'lula', 'llyn', 'luny', 'itll', 'lunt', 'cyul', 'lene', 'neven', 'fluent', 'lunet', 'fute', 'aute', 'etua', 'event', 'even', 'elve', 'levy', 'teen', 'untin', 'influence', 'finlet', 'eyne', 'iten', 'yeven', 'alfin', 'tuny', 'ventin', 'enlute', 'fluency', 'auntly', 'evenly', 'fula', 'flaunt', 'eventually', 'veny', 'null', 'flutey', 'funt', 'fitly', 'neet', 'launce', 'laun', 'yeti', 'lute', 'fluey', 'tenla', 'nevel', 'lune', 'neut', 'yeel', 'yeni', 'teeny'}\n"
     ]
    }
   ],
   "source": [
    "print(potential_words)"
   ]
  },
  {
   "cell_type": "code",
   "execution_count": null,
   "metadata": {},
   "outputs": [],
   "source": [
    "from selenium.common.exceptions import TimeoutException, ElementNotInteractableException\n",
    "\n",
    "for word in potential_words:\n",
    "    #send the word to the site\n",
    "    body = WebDriverWait(driver, 10).until(EC.presence_of_element_located((By.TAG_NAME, 'body')))\n",
    "    body.send_keys(word)\n",
    "    body.send_keys(Keys.RETURN)\n",
    "\n",
    "    #close the bonus word popup if it appears\n",
    "    try:\n",
    "        #element in source code always\n",
    "        bonus_word_dialog = driver.find_element(By.ID, 'bonusWordDialog')\n",
    "        close_btn = bonus_word_dialog.find_element(By.CLASS_NAME, 'closeBtn')\n",
    "        #if button is interactable, click it        \n",
    "        WebDriverWait(driver, 2).until(EC.element_to_be_clickable(close_btn))        \n",
    "        close_btn.click()\n",
    "        time.sleep(1)\n",
    "    except (TimeoutException, ElementNotInteractableException):\n",
    "        #if button is not clickable (bonus word not found yet), continue sending the rest of the words\n",
    "        pass\n",
    "    except Exception as e:\n",
    "        print(e)\n",
    "\n",
    "    time.sleep(1)"
   ]
  }
 ],
 "metadata": {
  "kernelspec": {
   "display_name": "Python 3",
   "language": "python",
   "name": "python3"
  },
  "language_info": {
   "codemirror_mode": {
    "name": "ipython",
    "version": 3
   },
   "file_extension": ".py",
   "mimetype": "text/x-python",
   "name": "python",
   "nbconvert_exporter": "python",
   "pygments_lexer": "ipython3",
   "version": "3.11.9"
  }
 },
 "nbformat": 4,
 "nbformat_minor": 2
}
